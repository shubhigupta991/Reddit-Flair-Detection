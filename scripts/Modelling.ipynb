{
  "nbformat": 4,
  "nbformat_minor": 0,
  "metadata": {
    "kernelspec": {
      "display_name": "Python 3",
      "language": "python",
      "name": "python3"
    },
    "language_info": {
      "codemirror_mode": {
        "name": "ipython",
        "version": 3
      },
      "file_extension": ".py",
      "mimetype": "text/x-python",
      "name": "python",
      "nbconvert_exporter": "python",
      "pygments_lexer": "ipython3",
      "version": "3.8.3"
    },
    "colab": {
      "name": "Modelling.ipynb",
      "provenance": [],
      "toc_visible": true,
      "include_colab_link": true
    }
  },
  "cells": [
    {
      "cell_type": "markdown",
      "metadata": {
        "id": "view-in-github",
        "colab_type": "text"
      },
      "source": [
        "<a href=\"https://colab.research.google.com/github/shubhigupta991/Reddit-Flair-Detection/blob/main/scripts/Modelling.ipynb\" target=\"_parent\"><img src=\"https://colab.research.google.com/assets/colab-badge.svg\" alt=\"Open In Colab\"/></a>"
      ]
    },
    {
      "cell_type": "code",
      "metadata": {
        "id": "mR6GBlJUC3jM",
        "outputId": "8b4e515b-461e-41b3-adbe-c48406eec410",
        "colab": {
          "base_uri": "https://localhost:8080/"
        }
      },
      "source": [
        "from google.colab import drive\n",
        "drive.mount('/content/drive')"
      ],
      "execution_count": 3,
      "outputs": [
        {
          "output_type": "stream",
          "text": [
            "Mounted at /content/drive\n"
          ],
          "name": "stdout"
        }
      ]
    },
    {
      "cell_type": "markdown",
      "metadata": {
        "id": "LO7mMSXXCORM"
      },
      "source": [
        "## Showing Data"
      ]
    },
    {
      "cell_type": "code",
      "metadata": {
        "id": "SyfNb57OVBHl"
      },
      "source": [
        "import pandas as pd\n",
        "import numpy as np\n",
        "import matplotlib.pyplot as plt\n",
        "import seaborn as sns"
      ],
      "execution_count": 1,
      "outputs": []
    },
    {
      "cell_type": "code",
      "metadata": {
        "id": "tCY-RcAMCJQX",
        "outputId": "5ee813ed-750e-4c72-a3ee-95b692da414c",
        "colab": {
          "base_uri": "https://localhost:8080/",
          "height": 392
        }
      },
      "source": [
        "data = pd.read_csv(\"drive/MyDrive/data.csv\")\n",
        "data.head()"
      ],
      "execution_count": 2,
      "outputs": [
        {
          "output_type": "error",
          "ename": "FileNotFoundError",
          "evalue": "ignored",
          "traceback": [
            "\u001b[0;31m---------------------------------------------------------------------------\u001b[0m",
            "\u001b[0;31mFileNotFoundError\u001b[0m                         Traceback (most recent call last)",
            "\u001b[0;32m<ipython-input-2-3824e9322cca>\u001b[0m in \u001b[0;36m<module>\u001b[0;34m()\u001b[0m\n\u001b[0;32m----> 1\u001b[0;31m \u001b[0mdata\u001b[0m \u001b[0;34m=\u001b[0m \u001b[0mpd\u001b[0m\u001b[0;34m.\u001b[0m\u001b[0mread_csv\u001b[0m\u001b[0;34m(\u001b[0m\u001b[0;34m\"drive/MyDrive/data.csv\"\u001b[0m\u001b[0;34m)\u001b[0m\u001b[0;34m\u001b[0m\u001b[0;34m\u001b[0m\u001b[0m\n\u001b[0m\u001b[1;32m      2\u001b[0m \u001b[0mdata\u001b[0m\u001b[0;34m.\u001b[0m\u001b[0mhead\u001b[0m\u001b[0;34m(\u001b[0m\u001b[0;34m)\u001b[0m\u001b[0;34m\u001b[0m\u001b[0;34m\u001b[0m\u001b[0m\n",
            "\u001b[0;32m/usr/local/lib/python3.6/dist-packages/pandas/io/parsers.py\u001b[0m in \u001b[0;36mread_csv\u001b[0;34m(filepath_or_buffer, sep, delimiter, header, names, index_col, usecols, squeeze, prefix, mangle_dupe_cols, dtype, engine, converters, true_values, false_values, skipinitialspace, skiprows, skipfooter, nrows, na_values, keep_default_na, na_filter, verbose, skip_blank_lines, parse_dates, infer_datetime_format, keep_date_col, date_parser, dayfirst, cache_dates, iterator, chunksize, compression, thousands, decimal, lineterminator, quotechar, quoting, doublequote, escapechar, comment, encoding, dialect, error_bad_lines, warn_bad_lines, delim_whitespace, low_memory, memory_map, float_precision)\u001b[0m\n\u001b[1;32m    686\u001b[0m     )\n\u001b[1;32m    687\u001b[0m \u001b[0;34m\u001b[0m\u001b[0m\n\u001b[0;32m--> 688\u001b[0;31m     \u001b[0;32mreturn\u001b[0m \u001b[0m_read\u001b[0m\u001b[0;34m(\u001b[0m\u001b[0mfilepath_or_buffer\u001b[0m\u001b[0;34m,\u001b[0m \u001b[0mkwds\u001b[0m\u001b[0;34m)\u001b[0m\u001b[0;34m\u001b[0m\u001b[0;34m\u001b[0m\u001b[0m\n\u001b[0m\u001b[1;32m    689\u001b[0m \u001b[0;34m\u001b[0m\u001b[0m\n\u001b[1;32m    690\u001b[0m \u001b[0;34m\u001b[0m\u001b[0m\n",
            "\u001b[0;32m/usr/local/lib/python3.6/dist-packages/pandas/io/parsers.py\u001b[0m in \u001b[0;36m_read\u001b[0;34m(filepath_or_buffer, kwds)\u001b[0m\n\u001b[1;32m    452\u001b[0m \u001b[0;34m\u001b[0m\u001b[0m\n\u001b[1;32m    453\u001b[0m     \u001b[0;31m# Create the parser.\u001b[0m\u001b[0;34m\u001b[0m\u001b[0;34m\u001b[0m\u001b[0;34m\u001b[0m\u001b[0m\n\u001b[0;32m--> 454\u001b[0;31m     \u001b[0mparser\u001b[0m \u001b[0;34m=\u001b[0m \u001b[0mTextFileReader\u001b[0m\u001b[0;34m(\u001b[0m\u001b[0mfp_or_buf\u001b[0m\u001b[0;34m,\u001b[0m \u001b[0;34m**\u001b[0m\u001b[0mkwds\u001b[0m\u001b[0;34m)\u001b[0m\u001b[0;34m\u001b[0m\u001b[0;34m\u001b[0m\u001b[0m\n\u001b[0m\u001b[1;32m    455\u001b[0m \u001b[0;34m\u001b[0m\u001b[0m\n\u001b[1;32m    456\u001b[0m     \u001b[0;32mif\u001b[0m \u001b[0mchunksize\u001b[0m \u001b[0;32mor\u001b[0m \u001b[0miterator\u001b[0m\u001b[0;34m:\u001b[0m\u001b[0;34m\u001b[0m\u001b[0;34m\u001b[0m\u001b[0m\n",
            "\u001b[0;32m/usr/local/lib/python3.6/dist-packages/pandas/io/parsers.py\u001b[0m in \u001b[0;36m__init__\u001b[0;34m(self, f, engine, **kwds)\u001b[0m\n\u001b[1;32m    946\u001b[0m             \u001b[0mself\u001b[0m\u001b[0;34m.\u001b[0m\u001b[0moptions\u001b[0m\u001b[0;34m[\u001b[0m\u001b[0;34m\"has_index_names\"\u001b[0m\u001b[0;34m]\u001b[0m \u001b[0;34m=\u001b[0m \u001b[0mkwds\u001b[0m\u001b[0;34m[\u001b[0m\u001b[0;34m\"has_index_names\"\u001b[0m\u001b[0;34m]\u001b[0m\u001b[0;34m\u001b[0m\u001b[0;34m\u001b[0m\u001b[0m\n\u001b[1;32m    947\u001b[0m \u001b[0;34m\u001b[0m\u001b[0m\n\u001b[0;32m--> 948\u001b[0;31m         \u001b[0mself\u001b[0m\u001b[0;34m.\u001b[0m\u001b[0m_make_engine\u001b[0m\u001b[0;34m(\u001b[0m\u001b[0mself\u001b[0m\u001b[0;34m.\u001b[0m\u001b[0mengine\u001b[0m\u001b[0;34m)\u001b[0m\u001b[0;34m\u001b[0m\u001b[0;34m\u001b[0m\u001b[0m\n\u001b[0m\u001b[1;32m    949\u001b[0m \u001b[0;34m\u001b[0m\u001b[0m\n\u001b[1;32m    950\u001b[0m     \u001b[0;32mdef\u001b[0m \u001b[0mclose\u001b[0m\u001b[0;34m(\u001b[0m\u001b[0mself\u001b[0m\u001b[0;34m)\u001b[0m\u001b[0;34m:\u001b[0m\u001b[0;34m\u001b[0m\u001b[0;34m\u001b[0m\u001b[0m\n",
            "\u001b[0;32m/usr/local/lib/python3.6/dist-packages/pandas/io/parsers.py\u001b[0m in \u001b[0;36m_make_engine\u001b[0;34m(self, engine)\u001b[0m\n\u001b[1;32m   1178\u001b[0m     \u001b[0;32mdef\u001b[0m \u001b[0m_make_engine\u001b[0m\u001b[0;34m(\u001b[0m\u001b[0mself\u001b[0m\u001b[0;34m,\u001b[0m \u001b[0mengine\u001b[0m\u001b[0;34m=\u001b[0m\u001b[0;34m\"c\"\u001b[0m\u001b[0;34m)\u001b[0m\u001b[0;34m:\u001b[0m\u001b[0;34m\u001b[0m\u001b[0;34m\u001b[0m\u001b[0m\n\u001b[1;32m   1179\u001b[0m         \u001b[0;32mif\u001b[0m \u001b[0mengine\u001b[0m \u001b[0;34m==\u001b[0m \u001b[0;34m\"c\"\u001b[0m\u001b[0;34m:\u001b[0m\u001b[0;34m\u001b[0m\u001b[0;34m\u001b[0m\u001b[0m\n\u001b[0;32m-> 1180\u001b[0;31m             \u001b[0mself\u001b[0m\u001b[0;34m.\u001b[0m\u001b[0m_engine\u001b[0m \u001b[0;34m=\u001b[0m \u001b[0mCParserWrapper\u001b[0m\u001b[0;34m(\u001b[0m\u001b[0mself\u001b[0m\u001b[0;34m.\u001b[0m\u001b[0mf\u001b[0m\u001b[0;34m,\u001b[0m \u001b[0;34m**\u001b[0m\u001b[0mself\u001b[0m\u001b[0;34m.\u001b[0m\u001b[0moptions\u001b[0m\u001b[0;34m)\u001b[0m\u001b[0;34m\u001b[0m\u001b[0;34m\u001b[0m\u001b[0m\n\u001b[0m\u001b[1;32m   1181\u001b[0m         \u001b[0;32melse\u001b[0m\u001b[0;34m:\u001b[0m\u001b[0;34m\u001b[0m\u001b[0;34m\u001b[0m\u001b[0m\n\u001b[1;32m   1182\u001b[0m             \u001b[0;32mif\u001b[0m \u001b[0mengine\u001b[0m \u001b[0;34m==\u001b[0m \u001b[0;34m\"python\"\u001b[0m\u001b[0;34m:\u001b[0m\u001b[0;34m\u001b[0m\u001b[0;34m\u001b[0m\u001b[0m\n",
            "\u001b[0;32m/usr/local/lib/python3.6/dist-packages/pandas/io/parsers.py\u001b[0m in \u001b[0;36m__init__\u001b[0;34m(self, src, **kwds)\u001b[0m\n\u001b[1;32m   2008\u001b[0m         \u001b[0mkwds\u001b[0m\u001b[0;34m[\u001b[0m\u001b[0;34m\"usecols\"\u001b[0m\u001b[0;34m]\u001b[0m \u001b[0;34m=\u001b[0m \u001b[0mself\u001b[0m\u001b[0;34m.\u001b[0m\u001b[0musecols\u001b[0m\u001b[0;34m\u001b[0m\u001b[0;34m\u001b[0m\u001b[0m\n\u001b[1;32m   2009\u001b[0m \u001b[0;34m\u001b[0m\u001b[0m\n\u001b[0;32m-> 2010\u001b[0;31m         \u001b[0mself\u001b[0m\u001b[0;34m.\u001b[0m\u001b[0m_reader\u001b[0m \u001b[0;34m=\u001b[0m \u001b[0mparsers\u001b[0m\u001b[0;34m.\u001b[0m\u001b[0mTextReader\u001b[0m\u001b[0;34m(\u001b[0m\u001b[0msrc\u001b[0m\u001b[0;34m,\u001b[0m \u001b[0;34m**\u001b[0m\u001b[0mkwds\u001b[0m\u001b[0;34m)\u001b[0m\u001b[0;34m\u001b[0m\u001b[0;34m\u001b[0m\u001b[0m\n\u001b[0m\u001b[1;32m   2011\u001b[0m         \u001b[0mself\u001b[0m\u001b[0;34m.\u001b[0m\u001b[0munnamed_cols\u001b[0m \u001b[0;34m=\u001b[0m \u001b[0mself\u001b[0m\u001b[0;34m.\u001b[0m\u001b[0m_reader\u001b[0m\u001b[0;34m.\u001b[0m\u001b[0munnamed_cols\u001b[0m\u001b[0;34m\u001b[0m\u001b[0;34m\u001b[0m\u001b[0m\n\u001b[1;32m   2012\u001b[0m \u001b[0;34m\u001b[0m\u001b[0m\n",
            "\u001b[0;32mpandas/_libs/parsers.pyx\u001b[0m in \u001b[0;36mpandas._libs.parsers.TextReader.__cinit__\u001b[0;34m()\u001b[0m\n",
            "\u001b[0;32mpandas/_libs/parsers.pyx\u001b[0m in \u001b[0;36mpandas._libs.parsers.TextReader._setup_parser_source\u001b[0;34m()\u001b[0m\n",
            "\u001b[0;31mFileNotFoundError\u001b[0m: [Errno 2] No such file or directory: 'drive/MyDrive/data.csv'"
          ]
        }
      ]
    },
    {
      "cell_type": "code",
      "metadata": {
        "id": "21s_lj57VBHn"
      },
      "source": [
        "data.fillna(\"None\",inplace = True)"
      ],
      "execution_count": 2,
      "outputs": []
    },
    {
      "cell_type": "code",
      "metadata": {
        "colab": {
          "base_uri": "https://localhost:8080/"
        },
        "id": "PQ4r08DzVBHn",
        "outputId": "d056d8c3-00f3-443f-aee1-7fd44946c200"
      },
      "source": [
        "data.isna().sum()"
      ],
      "execution_count": 3,
      "outputs": [
        {
          "output_type": "execute_result",
          "data": {
            "text/plain": [
              "title                0\n",
              "id                   0\n",
              "score                0\n",
              "url                  0\n",
              "num_of_comments      0\n",
              "body                 0\n",
              "author               0\n",
              "comments             0\n",
              "flair                0\n",
              "timestamp            0\n",
              "combined_features    0\n",
              "dtype: int64"
            ]
          },
          "metadata": {
            "tags": []
          },
          "execution_count": 3
        }
      ]
    },
    {
      "cell_type": "markdown",
      "metadata": {
        "id": "Sq7PnlhKVBHn"
      },
      "source": [
        "## Data Preprocessing and Model Fitting"
      ]
    },
    {
      "cell_type": "code",
      "metadata": {
        "id": "WOEGj1RwVBHo"
      },
      "source": [
        "from sklearn.model_selection import train_test_split\n",
        "from sklearn.pipeline import Pipeline\n",
        "from sklearn.feature_extraction.text import TfidfTransformer\n",
        "from sklearn.feature_extraction.text import CountVectorizer\n",
        "from sklearn.linear_model import SGDClassifier\n",
        "from sklearn.ensemble import RandomForestClassifier\n",
        "from sklearn.neighbors import KNeighborsClassifier\n",
        "from sklearn.linear_model import LogisticRegression\n",
        "from xgboost import XGBClassifier"
      ],
      "execution_count": 4,
      "outputs": []
    },
    {
      "cell_type": "code",
      "metadata": {
        "id": "Bjwi9kevVBHo"
      },
      "source": [
        "def fit_and_score(models,X_train,y_train,X_test,y_test) :\n",
        "    '''\n",
        "    Fits and evaluate given machine learning model.\n",
        "    \n",
        "    Parameters:-\n",
        "    models = Take a dictionary of models to fit and evaluate.\n",
        "    X_train = Training data without labels.\n",
        "    y_train = Training labels.\n",
        "    X_test = Test data without labels.\n",
        "    y_test = Test labels\n",
        "    '''\n",
        "    \n",
        "    np.random.seed(21)\n",
        "    model_scores = {}\n",
        "    for model_name, model in models.items() :\n",
        "        model = Pipeline([('vect', CountVectorizer()),\n",
        "                  ('tfidf', TfidfTransformer()),\n",
        "                  (model_name, model)])\n",
        "        print(f'Fitting {model_name} .....')\n",
        "        model.fit(X_train,y_train)\n",
        "        print(f'Evaluating {model_name} .....')\n",
        "        model_scores[model_name] = model.score(X_test,y_test)\n",
        "        \n",
        "    return model_scores"
      ],
      "execution_count": 5,
      "outputs": []
    },
    {
      "cell_type": "code",
      "metadata": {
        "id": "nieKGJs3cQPO"
      },
      "source": [
        "models = {'LogisticRegression' : LogisticRegression(),\n",
        "          'Linear_svm' : SGDClassifier(),\n",
        "          'KNN': KNeighborsClassifier(),\n",
        "          'RandomForestClassifier' : RandomForestClassifier(),\n",
        "          'XGBClassifier' : XGBClassifier()}"
      ],
      "execution_count": 6,
      "outputs": []
    },
    {
      "cell_type": "code",
      "metadata": {
        "id": "WBj6GzwAaWVb"
      },
      "source": [
        "features = {'combined_features' : data['combined_features'],\n",
        "'comments' : data['comments'],\n",
        "'title' : data['title'],\n",
        "'body' : data['body'],\n",
        "'url' : data['url']}   \n",
        "\n",
        "cat = data['flair']"
      ],
      "execution_count": 9,
      "outputs": []
    },
    {
      "cell_type": "code",
      "metadata": {
        "colab": {
          "base_uri": "https://localhost:8080/"
        },
        "id": "dpUsKqMZcVeW",
        "outputId": "44c1cdfc-2b9b-4e93-81bb-5558d2af5dd6"
      },
      "source": [
        "scores = {}\n",
        "\n",
        "for feature in features:\n",
        "\n",
        "  X_train,X_test,y_train,y_test = train_test_split(features[feature],cat,test_size=0.2, random_state = 21)\n",
        "  print(f'Flair Detection using {feature} as Feature')\n",
        "  model_scores = fit_and_score(models,X_train,y_train,X_test,y_test)\n",
        "\n",
        "  scores[feature] =  model_scores"
      ],
      "execution_count": 10,
      "outputs": [
        {
          "output_type": "stream",
          "text": [
            "Flair Detection using combined_features as Feature\n",
            "Fitting LogisticRegression .....\n",
            "Evaluating LogisticRegression .....\n",
            "Fitting Linear_svm .....\n",
            "Evaluating Linear_svm .....\n",
            "Fitting KNN .....\n",
            "Evaluating KNN .....\n",
            "Fitting RandomForestClassifier .....\n",
            "Evaluating RandomForestClassifier .....\n",
            "Fitting XGBClassifier .....\n",
            "Evaluating XGBClassifier .....\n",
            "Flair Detection using comments as Feature\n",
            "Fitting LogisticRegression .....\n",
            "Evaluating LogisticRegression .....\n",
            "Fitting Linear_svm .....\n",
            "Evaluating Linear_svm .....\n",
            "Fitting KNN .....\n",
            "Evaluating KNN .....\n",
            "Fitting RandomForestClassifier .....\n",
            "Evaluating RandomForestClassifier .....\n",
            "Fitting XGBClassifier .....\n",
            "Evaluating XGBClassifier .....\n",
            "Flair Detection using title as Feature\n",
            "Fitting LogisticRegression .....\n",
            "Evaluating LogisticRegression .....\n",
            "Fitting Linear_svm .....\n",
            "Evaluating Linear_svm .....\n",
            "Fitting KNN .....\n",
            "Evaluating KNN .....\n",
            "Fitting RandomForestClassifier .....\n",
            "Evaluating RandomForestClassifier .....\n",
            "Fitting XGBClassifier .....\n",
            "Evaluating XGBClassifier .....\n",
            "Flair Detection using body as Feature\n",
            "Fitting LogisticRegression .....\n",
            "Evaluating LogisticRegression .....\n",
            "Fitting Linear_svm .....\n",
            "Evaluating Linear_svm .....\n",
            "Fitting KNN .....\n",
            "Evaluating KNN .....\n",
            "Fitting RandomForestClassifier .....\n",
            "Evaluating RandomForestClassifier .....\n",
            "Fitting XGBClassifier .....\n",
            "Evaluating XGBClassifier .....\n",
            "Flair Detection using url as Feature\n",
            "Fitting LogisticRegression .....\n",
            "Evaluating LogisticRegression .....\n",
            "Fitting Linear_svm .....\n",
            "Evaluating Linear_svm .....\n",
            "Fitting KNN .....\n",
            "Evaluating KNN .....\n",
            "Fitting RandomForestClassifier .....\n",
            "Evaluating RandomForestClassifier .....\n",
            "Fitting XGBClassifier .....\n",
            "Evaluating XGBClassifier .....\n"
          ],
          "name": "stdout"
        }
      ]
    },
    {
      "cell_type": "code",
      "metadata": {
        "colab": {
          "base_uri": "https://localhost:8080/"
        },
        "id": "sjcHOBi0gaIU",
        "outputId": "97c6239a-6700-4f36-ffb7-c114bdede3c4"
      },
      "source": [
        "scores"
      ],
      "execution_count": 11,
      "outputs": [
        {
          "output_type": "execute_result",
          "data": {
            "text/plain": [
              "{'body': {'KNN': 0.28688524590163933,\n",
              "  'Linear_svm': 0.3360655737704918,\n",
              "  'LogisticRegression': 0.30327868852459017,\n",
              "  'RandomForestClassifier': 0.3975409836065574,\n",
              "  'XGBClassifier': 0.4180327868852459},\n",
              " 'combined_features': {'KNN': 0.5204918032786885,\n",
              "  'Linear_svm': 0.7581967213114754,\n",
              "  'LogisticRegression': 0.7336065573770492,\n",
              "  'RandomForestClassifier': 0.7663934426229508,\n",
              "  'XGBClassifier': 0.8565573770491803},\n",
              " 'comments': {'KNN': 0.3442622950819672,\n",
              "  'Linear_svm': 0.44672131147540983,\n",
              "  'LogisticRegression': 0.4385245901639344,\n",
              "  'RandomForestClassifier': 0.4016393442622951,\n",
              "  'XGBClassifier': 0.4139344262295082},\n",
              " 'title': {'KNN': 0.5327868852459017,\n",
              "  'Linear_svm': 0.6557377049180327,\n",
              "  'LogisticRegression': 0.6926229508196722,\n",
              "  'RandomForestClassifier': 0.7090163934426229,\n",
              "  'XGBClassifier': 0.6639344262295082},\n",
              " 'url': {'KNN': 0.21311475409836064,\n",
              "  'Linear_svm': 0.319672131147541,\n",
              "  'LogisticRegression': 0.30327868852459017,\n",
              "  'RandomForestClassifier': 0.2581967213114754,\n",
              "  'XGBClassifier': 0.28688524590163933}}"
            ]
          },
          "metadata": {
            "tags": []
          },
          "execution_count": 11
        }
      ]
    },
    {
      "cell_type": "code",
      "metadata": {
        "colab": {
          "base_uri": "https://localhost:8080/",
          "height": 1000
        },
        "id": "GCUunMFYj3ee",
        "outputId": "247f6358-4007-4dcd-91bf-69a3bb0ed600"
      },
      "source": [
        "for feature,score in scores.items():\n",
        "  model_compare = pd.DataFrame(score,index = ['accuracy'])\n",
        "  print(feature)"
      ],
      "execution_count": 14,
      "outputs": [
        {
          "output_type": "display_data",
          "data": {
            "image/png": "[encoded data removed]",
            "text/plain": [
              "<Figure size 432x288 with 1 Axes>"
            ]
          },
          "metadata": {
            "tags": [],
            "needs_background": "light"
          }
        },
        {
          "output_type": "display_data",
          "data": {
            "image/png": "[encoded data removed]",
            "text/plain": [
              "<Figure size 432x288 with 1 Axes>"
            ]
          },
          "metadata": {
            "tags": [],
            "needs_background": "light"
          }
        },
        {
          "output_type": "display_data",
          "data": {
            "image/png": "[encoded data removed]",
            "text/plain": [
              "<Figure size 432x288 with 1 Axes>"
            ]
          },
          "metadata": {
            "tags": [],
            "needs_background": "light"
          }
        },
        {
          "output_type": "display_data",
          "data": {
            "image/png": "[encoded data removed]",
            "text/plain": [
              "<Figure size 432x288 with 1 Axes>"
            ]
          },
          "metadata": {
            "tags": [],
            "needs_background": "light"
          }
        },
        {
          "output_type": "display_data",
          "data": {
            "image/png": "[encoded data removed]",
            "text/plain": [
              "<Figure size 432x288 with 1 Axes>"
            ]
          },
          "metadata": {
            "tags": [],
            "needs_background": "light"
          }
        }
      ]
    },
    {
      "cell_type": "markdown",
      "metadata": {
        "id": "P9YLI05eVUkc"
      },
      "source": [
        "## Best Model \n",
        "By observing the above results I concluded that the model that gives the best result is `XGBClassifier` and the best feature for predicting flair is `combined_features`.\n",
        "\n"
      ]
    },
    {
      "cell_type": "code",
      "metadata": {
        "id": "TqJKtTZKk7yi"
      },
      "source": [
        "X = data['combined_features']\n",
        "y = data['flair']\n",
        "\n",
        "np.random.seed(21)\n",
        "\n",
        "X_train,X_test,y_train,y_test = train_test_split(X,y,test_size=0.2)\n",
        "model = Pipeline([('vect', CountVectorizer()),\n",
        "                   ('tfidf', TfidfTransformer()),\n",
        "                   ('clf', XGBClassifier())])\n",
        "model.fit(X_train,y_train)\n",
        "model_score = model.score(X_test,y_test)\n",
        "print(f'Model score : {model_score}')"
      ],
      "execution_count": null,
      "outputs": []
    },
    {
      "cell_type": "markdown",
      "metadata": {
        "id": "5BCXC2cjYl2r"
      },
      "source": [
        "## Improving a model\n",
        "First prediction = baseline prediction First model = baseline model\n",
        "\n",
        "From data perspective:\n",
        "\n",
        "* Could we collect more data. (generally,the more data, the better)\n",
        "* Can we improve data? (adding more reliable features)\n",
        "\n",
        "From a model perspective:\n",
        "\n",
        "* Is there a better model we can use? (Refer - sklearn ml map)\n",
        "* Could we imporove our model? (Tuning Hyperparameters)\n",
        "Parameters vs HyperParameters\n",
        "\n",
        "Parameters :- model find these patterns\n",
        "* Hyperparameters :- settings on model we can adjust(potentially) to improve its ability to find patterns\n",
        "\n",
        "Three ways to adjust Hyperparameters:-\n",
        "\n",
        "`By hand`\n",
        "\n",
        "`Randomly with RandomSearchCV`\n",
        "\n",
        "`Exhaustively with GridSearchCV`"
      ]
    },
    {
      "cell_type": "markdown",
      "metadata": {
        "id": "5RTtWf0BYFvA"
      },
      "source": [
        "### **Hyperparamter Tuning with GridSearchCV**\n",
        "I am using the method `Hyperparamter Tuning with GridSearchCV` because I probably find this to be the best way.\n",
        "\n",
        "Since our XGBClassifier model provides the best scores so far, we'll try and improve them again using GridSearchCV..."
      ]
    },
    {
      "cell_type": "code",
      "metadata": {
        "id": "rsJJDI7R_GPT"
      },
      "source": [
        "from sklearn.model_selection import GridSearchCV"
      ],
      "execution_count": null,
      "outputs": []
    },
    {
      "cell_type": "code",
      "metadata": {
        "id": "tJh0c0atXusf"
      },
      "source": [
        "parameter_grid = {\n",
        "    'n_estimators' : [100,500,1000],\n",
        "    'verbosity' : [1,2],\n",
        "    'seed' : 2,\n",
        "    'colsample_bytree' : [0.5,0.6,1],\n",
        "    'subsample' : [0.5,0.7,1],\n",
        "    'objective' : 'multi:softmax'\n",
        "}"
      ],
      "execution_count": null,
      "outputs": []
    },
    {
      "cell_type": "code",
      "metadata": {
        "id": "LVmkAka-6Ohl"
      },
      "source": [
        "X = data['combined_features']\n",
        "y = data['flair']\n",
        "\n",
        "np.random.seed(21)\n",
        "\n",
        "X_train,X_test,y_train,y_test = train_test_split(X,y,test_size=0.2)\n",
        "model = Pipeline([('vect', CountVectorizer()),\n",
        "                   ('tfidf', TfidfTransformer()),\n",
        "                   ('clf', XGBClassifier())])\n",
        "\n",
        "gs_model = GridSearchCV(estimator=model,\n",
        "                        param_grid=grid,\n",
        "                        cv=5, verbose=2)\n",
        "\n",
        "gs_model.fit(X_train,y_train)"
      ],
      "execution_count": null,
      "outputs": []
    },
    {
      "cell_type": "code",
      "metadata": {
        "id": "nz7NoPdq-QCH"
      },
      "source": [
        "gs_model.best_params"
      ],
      "execution_count": null,
      "outputs": []
    },
    {
      "cell_type": "code",
      "metadata": {
        "id": "Zy7e-5J0-S8x"
      },
      "source": [
        "gs_model.score(X_test,y_test)"
      ],
      "execution_count": null,
      "outputs": []
    },
    {
      "cell_type": "markdown",
      "metadata": {
        "id": "dWnwWmqh-hoZ"
      },
      "source": [
        "## Evaluting our tuned machine learning classifier, beyond accuracy\n",
        "* ROC curve and AUC score\n",
        "* Confusion matrix\n",
        "* Classification report\n",
        "* Precision\n",
        "* Recall\n",
        "* F1-score\n",
        "... and it would be great if cross-validation was used where possible.\n",
        "\n"
      ]
    },
    {
      "cell_type": "code",
      "metadata": {
        "id": "Zhb2U0Va_BEp"
      },
      "source": [
        "from sklearn.model_selection import train_test_split\n",
        "from sklearn.metrics import confusion_matrix, classification_report\n",
        "from sklearn.metrics import precision_score, recall_score, f1_score\n",
        "from sklearn.metrics import plot_roc_curve"
      ],
      "execution_count": null,
      "outputs": []
    },
    {
      "cell_type": "code",
      "metadata": {
        "id": "Eo43ypo07Ze1"
      },
      "source": [
        "def evaluate_preds(y_true,y_preds):\n",
        "    '''\n",
        "    Performs evaluation comparison on y_true labels vs y_pred labels \n",
        "    on a classification model.\n",
        "    '''\n",
        "    accuracy = accuracy_score(y_true, y_preds)\n",
        "    precision = precision_score(y_true, y_preds)\n",
        "    recall = recall_score(y_true, y_preds)\n",
        "    f1 = f1_score(y_true, y_preds)\n",
        "    metric_dict = {'accuracy' : round(accuracy,2), \n",
        "                   'precision' : round(precision,2),\n",
        "                   'recall' : round(recall,2),\n",
        "                   'f1' : round(f1,2)}\n",
        "    print(f'Acc : {accuracy *100:.2f}%')\n",
        "    print(f'Precision : {precision *100:.2f}%')\n",
        "    print(f'Recall : {recall *100.:2f}%')\n",
        "    print(f'F1 : {f1 *100:.2f}%')\n",
        "    \n",
        "    return metric_dict"
      ],
      "execution_count": null,
      "outputs": []
    },
    {
      "cell_type": "markdown",
      "metadata": {
        "id": "nykFWhnR-0Aw"
      },
      "source": [
        "To make comparisons and evaluate our trained model, first we need to make predictions."
      ]
    },
    {
      "cell_type": "code",
      "metadata": {
        "id": "idNOZtec_g7q"
      },
      "source": [
        "y_preds = gs_model.predict(X_test)"
      ],
      "execution_count": null,
      "outputs": []
    },
    {
      "cell_type": "code",
      "metadata": {
        "id": "k1VVvWvBAuHc"
      },
      "source": [
        "score_metrics = evaluate_preds(y_test,y_preds)"
      ],
      "execution_count": null,
      "outputs": []
    },
    {
      "cell_type": "code",
      "metadata": {
        "id": "wnShHNR_BI_2"
      },
      "source": [
        "score_metrics = pd.DataFrame(score_metrics)\n",
        "\n",
        "score_metrics.T.plot.bar(title=\"Classification metrics\",\n",
        "                      legend=False);"
      ],
      "execution_count": null,
      "outputs": []
    },
    {
      "cell_type": "code",
      "metadata": {
        "id": "5FaEMcRY_4Gr"
      },
      "source": [
        "plot_roc_curve(gs_model, X, y);"
      ],
      "execution_count": null,
      "outputs": []
    },
    {
      "cell_type": "code",
      "metadata": {
        "id": "resEuccP_5AF"
      },
      "source": [
        "confusion_matrix(y_test,y_preds)"
      ],
      "execution_count": null,
      "outputs": []
    },
    {
      "cell_type": "code",
      "metadata": {
        "id": "6kCst-fo_76K"
      },
      "source": [
        "sns.set(font_scale=1.5)\n",
        "\n",
        "def plot_conf_mat(conf_mat):\n",
        "    '''\n",
        "    Plot Confusion matrix.\n",
        "    '''\n",
        "    \n",
        "    fig, ax = plt.subplots(figsize = (5,5))\n",
        "    \n",
        "    ax = sns.heatmap(conf_mat, annot =True,\n",
        "                     cbar = False)\n",
        "    plt.xlabel('True label')\n",
        "    plt.ylabel('Predicted label')\n",
        "    plt.show()\n",
        "conf_mat = confusion_matrix(y_test, y_preds)\n",
        "plot_conf_mat(conf_mat)"
      ],
      "execution_count": null,
      "outputs": []
    },
    {
      "cell_type": "markdown",
      "metadata": {
        "id": "OtgGPRQ8BraW"
      },
      "source": [
        "## Saving a Machine learning model\n"
      ]
    },
    {
      "cell_type": "code",
      "metadata": {
        "id": "DV8f6NxOB3Z3"
      },
      "source": [
        "final_model = "
      ],
      "execution_count": null,
      "outputs": []
    },
    {
      "cell_type": "code",
      "metadata": {
        "id": "qPkFAou2AMtU"
      },
      "source": [
        "import pickle\n",
        "\n",
        "pickle.dump(gs_clf,open('gs_random_forest_classifier.pkl -1','wb'))"
      ],
      "execution_count": null,
      "outputs": []
    }
  ]
}