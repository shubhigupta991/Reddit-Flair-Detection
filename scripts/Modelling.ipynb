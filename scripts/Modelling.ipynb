{
  "nbformat": 4,
  "nbformat_minor": 0,
  "metadata": {
    "kernelspec": {
      "display_name": "Python 3",
      "language": "python",
      "name": "python3"
    },
    "language_info": {
      "codemirror_mode": {
        "name": "ipython",
        "version": 3
      },
      "file_extension": ".py",
      "mimetype": "text/x-python",
      "name": "python",
      "nbconvert_exporter": "python",
      "pygments_lexer": "ipython3",
      "version": "3.8.3"
    },
    "colab": {
      "name": "Modelling.ipynb",
      "provenance": [],
      "toc_visible": true,
      "include_colab_link": true
    }
  },
  "cells": [
    {
      "cell_type": "markdown",
      "metadata": {
        "id": "view-in-github",
        "colab_type": "text"
      },
      "source": [
        "<a href=\"https://colab.research.google.com/github/shubhigupta991/Reddit-Flair-Detection/blob/main/scripts/Modelling.ipynb\" target=\"_parent\"><img src=\"https://colab.research.google.com/assets/colab-badge.svg\" alt=\"Open In Colab\"/></a>"
      ]
    },
    {
      "cell_type": "code",
      "metadata": {
        "id": "SyfNb57OVBHl",
        "outputId": "60801d93-4646-4ca0-c662-f544f6cc940c",
        "colab": {
          "base_uri": "https://localhost:8080/",
          "height": 717
        }
      },
      "source": [
        "import pandas as pd\n",
        "data = pd.read_csv(\"drive/MyDrive/data.csv\")\n",
        "data.head()"
      ],
      "execution_count": 4,
      "outputs": [
        {
          "output_type": "execute_result",
          "data": {
            "text/html": [
              "<div>\n",
              "<style scoped>\n",
              "    .dataframe tbody tr th:only-of-type {\n",
              "        vertical-align: middle;\n",
              "    }\n",
              "\n",
              "    .dataframe tbody tr th {\n",
              "        vertical-align: top;\n",
              "    }\n",
              "\n",
              "    .dataframe thead th {\n",
              "        text-align: right;\n",
              "    }\n",
              "</style>\n",
              "<table border=\"1\" class=\"dataframe\">\n",
              "  <thead>\n",
              "    <tr style=\"text-align: right;\">\n",
              "      <th></th>\n",
              "      <th>title</th>\n",
              "      <th>id</th>\n",
              "      <th>score</th>\n",
              "      <th>url</th>\n",
              "      <th>num_of_comments</th>\n",
              "      <th>body</th>\n",
              "      <th>author</th>\n",
              "      <th>comments</th>\n",
              "      <th>flair</th>\n",
              "      <th>timestamp</th>\n",
              "      <th>combined_features</th>\n",
              "    </tr>\n",
              "  </thead>\n",
              "  <tbody>\n",
              "    <tr>\n",
              "      <th>0</th>\n",
              "      <td>gelatine available</td>\n",
              "      <td>jk9zlt</td>\n",
              "      <td>0</td>\n",
              "      <td>https://www.reddit.com/r/india/comments/jk9zlt...</td>\n",
              "      <td>4</td>\n",
              "      <td>wish buy gelatine looking cheapest local price...</td>\n",
              "      <td>csstudentG</td>\n",
              "      <td>available regular kirana stores usually kept r...</td>\n",
              "      <td>AskIndia</td>\n",
              "      <td>2020-10-29 21:26:38</td>\n",
              "      <td>gelatine availableavailable regular kirana sto...</td>\n",
              "    </tr>\n",
              "    <tr>\n",
              "      <th>1</th>\n",
              "      <td>trevor noah jokes indo pak tensions seriousnes...</td>\n",
              "      <td>gv9lmh</td>\n",
              "      <td>37</td>\n",
              "      <td>https://www.reddit.com/r/india/comments/gv9lmh...</td>\n",
              "      <td>29</td>\n",
              "      <td>really watch much trevor noah late night show ...</td>\n",
              "      <td>CommYouNitty</td>\n",
              "      <td>mostly country really matter lives pretty chea...</td>\n",
              "      <td>AskIndia</td>\n",
              "      <td>2020-06-02 23:42:24</td>\n",
              "      <td>trevor noah jokes indo pak tensions seriousnes...</td>\n",
              "    </tr>\n",
              "    <tr>\n",
              "      <th>2</th>\n",
              "      <td>buying used bs4 scooty april 1 issues registra...</td>\n",
              "      <td>hpqq5o</td>\n",
              "      <td>11</td>\n",
              "      <td>https://www.reddit.com/r/india/comments/hpqq5o...</td>\n",
              "      <td>7</td>\n",
              "      <td>know right place ask askindia asking saw artic...</td>\n",
              "      <td>akza07</td>\n",
              "      <td>scammers keep scamming applies new vehicles bu...</td>\n",
              "      <td>AskIndia</td>\n",
              "      <td>2020-07-12 15:58:15</td>\n",
              "      <td>buying used bs4 scooty april 1 issues registra...</td>\n",
              "    </tr>\n",
              "    <tr>\n",
              "      <th>3</th>\n",
              "      <td>need feedback insurance policy took x post ask...</td>\n",
              "      <td>1s57oi</td>\n",
              "      <td>1</td>\n",
              "      <td>https://www.reddit.com/r/india/comments/1s57oi...</td>\n",
              "      <td>1</td>\n",
              "      <td>posting lack activity r askindia hello last ye...</td>\n",
              "      <td>dhavalcoholic</td>\n",
              "      <td>dear policy holder dhavalcoholic request help ...</td>\n",
              "      <td>AskIndia</td>\n",
              "      <td>2013-12-05 14:30:23</td>\n",
              "      <td>need feedback insurance policy took x post ask...</td>\n",
              "    </tr>\n",
              "    <tr>\n",
              "      <th>4</th>\n",
              "      <td>could suggest good dramedies</td>\n",
              "      <td>h7t0r2</td>\n",
              "      <td>5</td>\n",
              "      <td>https://www.reddit.com/r/india/comments/h7t0r2...</td>\n",
              "      <td>4</td>\n",
              "      <td>r askindia restricted posting sure ask hope gu...</td>\n",
              "      <td>dont_mess_with_tx</td>\n",
              "      <td>vicky donor jolly llb angoor comedy guide dram...</td>\n",
              "      <td>AskIndia</td>\n",
              "      <td>2020-06-13 04:58:52</td>\n",
              "      <td>could suggest good dramediesvicky donor jolly ...</td>\n",
              "    </tr>\n",
              "  </tbody>\n",
              "</table>\n",
              "</div>"
            ],
            "text/plain": [
              "                                               title  ...                                  combined_features\n",
              "0                                 gelatine available  ...  gelatine availableavailable regular kirana sto...\n",
              "1  trevor noah jokes indo pak tensions seriousnes...  ...  trevor noah jokes indo pak tensions seriousnes...\n",
              "2  buying used bs4 scooty april 1 issues registra...  ...  buying used bs4 scooty april 1 issues registra...\n",
              "3  need feedback insurance policy took x post ask...  ...  need feedback insurance policy took x post ask...\n",
              "4                       could suggest good dramedies  ...  could suggest good dramediesvicky donor jolly ...\n",
              "\n",
              "[5 rows x 11 columns]"
            ]
          },
          "metadata": {
            "tags": []
          },
          "execution_count": 4
        }
      ]
    },
    {
      "cell_type": "code",
      "metadata": {
        "id": "21s_lj57VBHn"
      },
      "source": [
        "data.fillna(\"None\",inplace = True)"
      ],
      "execution_count": 5,
      "outputs": []
    },
    {
      "cell_type": "code",
      "metadata": {
        "id": "PQ4r08DzVBHn",
        "outputId": "b38da896-3899-4b2e-a22e-af7564c587d4",
        "colab": {
          "base_uri": "https://localhost:8080/"
        }
      },
      "source": [
        "data.isna().sum()"
      ],
      "execution_count": 6,
      "outputs": [
        {
          "output_type": "execute_result",
          "data": {
            "text/plain": [
              "title                0\n",
              "id                   0\n",
              "score                0\n",
              "url                  0\n",
              "num_of_comments      0\n",
              "body                 0\n",
              "author               0\n",
              "comments             0\n",
              "flair                0\n",
              "timestamp            0\n",
              "combined_features    0\n",
              "dtype: int64"
            ]
          },
          "metadata": {
            "tags": []
          },
          "execution_count": 6
        }
      ]
    },
    {
      "cell_type": "markdown",
      "metadata": {
        "id": "Sq7PnlhKVBHn"
      },
      "source": [
        "## Data Preprocessing and Model Fitting"
      ]
    },
    {
      "cell_type": "code",
      "metadata": {
        "id": "WOEGj1RwVBHo"
      },
      "source": [
        "from sklearn.pipeline import Pipeline\n",
        "from sklearn.feature_extraction.text import TfidfTransformer\n",
        "from sklearn.feature_extraction.text import CountVectorizer\n",
        "from sklearn.linear_model import SGDClassifier\n",
        "from sklearn.ensemble import RandomForestClassifier\n",
        "from sklearn.neighbors import KNeighborsClassifier\n",
        "from sklearn.linear_model import LogisticRegression\n",
        "from xgboost import XGBClassifier"
      ],
      "execution_count": 7,
      "outputs": []
    },
    {
      "cell_type": "code",
      "metadata": {
        "id": "Bjwi9kevVBHo"
      },
      "source": [
        "def fit_and_score(models,X_train,y_train,X_test,y_test) :\n",
        "    '''\n",
        "    Fits and evaluate given machine learning model.\n",
        "    \n",
        "    Parameters:-\n",
        "    models = Take a dictionary of models to fit and evaluate.\n",
        "    X_train = Training data without labels.\n",
        "    y_train = Training labels.\n",
        "    X_test = Test data without labels.\n",
        "    y_test = Test labels\n",
        "    '''\n",
        "    \n",
        "    np.random.seed(21)\n",
        "    model_scores = {}\n",
        "    for model_name, model in models.items() :\n",
        "        model = Pipeline([('vect', CountVectorizer()),\n",
        "                  ('tfidf', TfidfTransformer()),\n",
        "                  ('clf', model)])\n",
        "        print(f'Fitting {model_name} .....')\n",
        "        model.fit(X_train,y_train)\n",
        "        print(f'Evaluating {model_name} .....')\n",
        "        model_scores[model_name] = model.score(X_test,y_test)\n",
        "        \n",
        "    return model_scores"
      ],
      "execution_count": 8,
      "outputs": []
    },
    {
      "cell_type": "code",
      "metadata": {
        "id": "J0qlFHhzafJc"
      },
      "source": [
        "from sklearn.model_selection import train_test_split"
      ],
      "execution_count": null,
      "outputs": []
    },
    {
      "cell_type": "code",
      "metadata": {
        "id": "nieKGJs3cQPO"
      },
      "source": [
        "models = {'LogisticRegression' : LogisticRegression(),\n",
        "          'Linear_svm' : SGDClassifier(),\n",
        "          'KNN': KNeighborsClassifier(),\n",
        "          'RandomForestClassifier' : RandomForestClassifier(),\n",
        "          'XGBClassifier' : XGBClassifier()}"
      ],
      "execution_count": null,
      "outputs": []
    },
    {
      "cell_type": "code",
      "metadata": {
        "id": "WBj6GzwAaWVb"
      },
      "source": [
        "features = {'V' : data['combined_features'],\n",
        "'W' : data['comments'],\n",
        "'X' = data['title'],\n",
        "'Y' = data['body'],\n",
        "'Z' = data['url']}\n",
        "\n",
        " cat = data['flair']   "
      ],
      "execution_count": null,
      "outputs": []
    },
    {
      "cell_type": "code",
      "metadata": {
        "id": "dpUsKqMZcVeW"
      },
      "source": [
        "for feature in features:\n",
        "  scores = {}\n",
        "\n",
        "  X_train,X_test,y_train,y_test = train_test_split(feature,cat,test_size=0.2, random_state = 21)\n",
        "  print(f'Flair Detection using {feature} as Feature')\n",
        "  model_scores = fit_and_score(models,X_train,y_train,X_test,y_test)\n",
        "\n",
        "  scores[feature] =  model_scores"
      ],
      "execution_count": null,
      "outputs": []
    }
  ]
}