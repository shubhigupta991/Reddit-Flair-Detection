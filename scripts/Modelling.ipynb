{
 "cells": [
  {
   "cell_type": "code",
   "execution_count": 1,
   "metadata": {},
   "outputs": [
    {
     "data": {
      "text/html": [
       "<div>\n",
       "<style scoped>\n",
       "    .dataframe tbody tr th:only-of-type {\n",
       "        vertical-align: middle;\n",
       "    }\n",
       "\n",
       "    .dataframe tbody tr th {\n",
       "        vertical-align: top;\n",
       "    }\n",
       "\n",
       "    .dataframe thead th {\n",
       "        text-align: right;\n",
       "    }\n",
       "</style>\n",
       "<table border=\"1\" class=\"dataframe\">\n",
       "  <thead>\n",
       "    <tr style=\"text-align: right;\">\n",
       "      <th></th>\n",
       "      <th>title</th>\n",
       "      <th>id</th>\n",
       "      <th>score</th>\n",
       "      <th>url</th>\n",
       "      <th>num_of_comments</th>\n",
       "      <th>body</th>\n",
       "      <th>author</th>\n",
       "      <th>comments</th>\n",
       "      <th>flair</th>\n",
       "      <th>timestamp</th>\n",
       "      <th>combined_features</th>\n",
       "    </tr>\n",
       "  </thead>\n",
       "  <tbody>\n",
       "    <tr>\n",
       "      <th>0</th>\n",
       "      <td>gelatine available</td>\n",
       "      <td>jk9zlt</td>\n",
       "      <td>0</td>\n",
       "      <td>https://www.reddit.com/r/india/comments/jk9zlt...</td>\n",
       "      <td>4</td>\n",
       "      <td>wish buy gelatine looking cheapest local price...</td>\n",
       "      <td>csstudentG</td>\n",
       "      <td>available regular kirana stores usually kept r...</td>\n",
       "      <td>AskIndia</td>\n",
       "      <td>2020-10-29 21:26:38</td>\n",
       "      <td>gelatine availableavailable regular kirana sto...</td>\n",
       "    </tr>\n",
       "    <tr>\n",
       "      <th>1</th>\n",
       "      <td>trevor noah jokes indo pak tensions seriousnes...</td>\n",
       "      <td>gv9lmh</td>\n",
       "      <td>37</td>\n",
       "      <td>https://www.reddit.com/r/india/comments/gv9lmh...</td>\n",
       "      <td>29</td>\n",
       "      <td>really watch much trevor noah late night show ...</td>\n",
       "      <td>CommYouNitty</td>\n",
       "      <td>mostly country really matter lives pretty chea...</td>\n",
       "      <td>AskIndia</td>\n",
       "      <td>2020-06-02 23:42:24</td>\n",
       "      <td>trevor noah jokes indo pak tensions seriousnes...</td>\n",
       "    </tr>\n",
       "    <tr>\n",
       "      <th>2</th>\n",
       "      <td>buying used bs4 scooty april 1 issues registra...</td>\n",
       "      <td>hpqq5o</td>\n",
       "      <td>11</td>\n",
       "      <td>https://www.reddit.com/r/india/comments/hpqq5o...</td>\n",
       "      <td>7</td>\n",
       "      <td>know right place ask askindia asking saw artic...</td>\n",
       "      <td>akza07</td>\n",
       "      <td>scammers keep scamming applies new vehicles bu...</td>\n",
       "      <td>AskIndia</td>\n",
       "      <td>2020-07-12 15:58:15</td>\n",
       "      <td>buying used bs4 scooty april 1 issues registra...</td>\n",
       "    </tr>\n",
       "    <tr>\n",
       "      <th>3</th>\n",
       "      <td>need feedback insurance policy took x post ask...</td>\n",
       "      <td>1s57oi</td>\n",
       "      <td>1</td>\n",
       "      <td>https://www.reddit.com/r/india/comments/1s57oi...</td>\n",
       "      <td>1</td>\n",
       "      <td>posting lack activity r askindia hello last ye...</td>\n",
       "      <td>dhavalcoholic</td>\n",
       "      <td>dear policy holder dhavalcoholic request help ...</td>\n",
       "      <td>AskIndia</td>\n",
       "      <td>2013-12-05 14:30:23</td>\n",
       "      <td>need feedback insurance policy took x post ask...</td>\n",
       "    </tr>\n",
       "    <tr>\n",
       "      <th>4</th>\n",
       "      <td>could suggest good dramedies</td>\n",
       "      <td>h7t0r2</td>\n",
       "      <td>5</td>\n",
       "      <td>https://www.reddit.com/r/india/comments/h7t0r2...</td>\n",
       "      <td>4</td>\n",
       "      <td>r askindia restricted posting sure ask hope gu...</td>\n",
       "      <td>dont_mess_with_tx</td>\n",
       "      <td>vicky donor jolly llb angoor comedy guide dram...</td>\n",
       "      <td>AskIndia</td>\n",
       "      <td>2020-06-13 04:58:52</td>\n",
       "      <td>could suggest good dramediesvicky donor jolly ...</td>\n",
       "    </tr>\n",
       "  </tbody>\n",
       "</table>\n",
       "</div>"
      ],
      "text/plain": [
       "                                               title      id  score  \\\n",
       "0                                 gelatine available  jk9zlt      0   \n",
       "1  trevor noah jokes indo pak tensions seriousnes...  gv9lmh     37   \n",
       "2  buying used bs4 scooty april 1 issues registra...  hpqq5o     11   \n",
       "3  need feedback insurance policy took x post ask...  1s57oi      1   \n",
       "4                       could suggest good dramedies  h7t0r2      5   \n",
       "\n",
       "                                                 url  num_of_comments  \\\n",
       "0  https://www.reddit.com/r/india/comments/jk9zlt...                4   \n",
       "1  https://www.reddit.com/r/india/comments/gv9lmh...               29   \n",
       "2  https://www.reddit.com/r/india/comments/hpqq5o...                7   \n",
       "3  https://www.reddit.com/r/india/comments/1s57oi...                1   \n",
       "4  https://www.reddit.com/r/india/comments/h7t0r2...                4   \n",
       "\n",
       "                                                body             author  \\\n",
       "0  wish buy gelatine looking cheapest local price...         csstudentG   \n",
       "1  really watch much trevor noah late night show ...       CommYouNitty   \n",
       "2  know right place ask askindia asking saw artic...             akza07   \n",
       "3  posting lack activity r askindia hello last ye...      dhavalcoholic   \n",
       "4  r askindia restricted posting sure ask hope gu...  dont_mess_with_tx   \n",
       "\n",
       "                                            comments     flair  \\\n",
       "0  available regular kirana stores usually kept r...  AskIndia   \n",
       "1  mostly country really matter lives pretty chea...  AskIndia   \n",
       "2  scammers keep scamming applies new vehicles bu...  AskIndia   \n",
       "3  dear policy holder dhavalcoholic request help ...  AskIndia   \n",
       "4  vicky donor jolly llb angoor comedy guide dram...  AskIndia   \n",
       "\n",
       "             timestamp                                  combined_features  \n",
       "0  2020-10-29 21:26:38  gelatine availableavailable regular kirana sto...  \n",
       "1  2020-06-02 23:42:24  trevor noah jokes indo pak tensions seriousnes...  \n",
       "2  2020-07-12 15:58:15  buying used bs4 scooty april 1 issues registra...  \n",
       "3  2013-12-05 14:30:23  need feedback insurance policy took x post ask...  \n",
       "4  2020-06-13 04:58:52  could suggest good dramediesvicky donor jolly ...  "
      ]
     },
     "execution_count": 1,
     "metadata": {},
     "output_type": "execute_result"
    }
   ],
   "source": [
    "import pandas as pd\n",
    "data = pd.read_csv(\"data.csv\")\n",
    "data.head()"
   ]
  },
  {
   "cell_type": "code",
   "execution_count": 2,
   "metadata": {},
   "outputs": [],
   "source": [
    "data.fillna(\"None\",inplace = True)"
   ]
  },
  {
   "cell_type": "code",
   "execution_count": 3,
   "metadata": {},
   "outputs": [
    {
     "data": {
      "text/plain": [
       "title                0\n",
       "id                   0\n",
       "score                0\n",
       "url                  0\n",
       "num_of_comments      0\n",
       "body                 0\n",
       "author               0\n",
       "comments             0\n",
       "flair                0\n",
       "timestamp            0\n",
       "combined_features    0\n",
       "dtype: int64"
      ]
     },
     "execution_count": 3,
     "metadata": {},
     "output_type": "execute_result"
    }
   ],
   "source": [
    "data.isna().sum()"
   ]
  },
  {
   "cell_type": "markdown",
   "metadata": {},
   "source": [
    "## Data Preprocessing and Model Fitting"
   ]
  },
  {
   "cell_type": "code",
   "execution_count": 9,
   "metadata": {},
   "outputs": [
    {
     "ename": "ModuleNotFoundError",
     "evalue": "No module named 'xgboost'",
     "output_type": "error",
     "traceback": [
      "\u001b[0;31m---------------------------------------------------------------------------\u001b[0m",
      "\u001b[0;31mModuleNotFoundError\u001b[0m                       Traceback (most recent call last)",
      "\u001b[0;32m<ipython-input-9-8c07d0d6ea22>\u001b[0m in \u001b[0;36m<module>\u001b[0;34m\u001b[0m\n\u001b[1;32m      6\u001b[0m \u001b[0;32mfrom\u001b[0m \u001b[0msklearn\u001b[0m\u001b[0;34m.\u001b[0m\u001b[0mlinear_model\u001b[0m \u001b[0;32mimport\u001b[0m \u001b[0mSGDClassifier\u001b[0m\u001b[0;34m\u001b[0m\u001b[0;34m\u001b[0m\u001b[0m\n\u001b[1;32m      7\u001b[0m \u001b[0;32mfrom\u001b[0m \u001b[0msklearn\u001b[0m\u001b[0;34m.\u001b[0m\u001b[0mlinear_model\u001b[0m \u001b[0;32mimport\u001b[0m \u001b[0mLogisticRegression\u001b[0m\u001b[0;34m\u001b[0m\u001b[0;34m\u001b[0m\u001b[0m\n\u001b[0;32m----> 8\u001b[0;31m \u001b[0;32mimport\u001b[0m \u001b[0mxgboost\u001b[0m\u001b[0;34m\u001b[0m\u001b[0;34m\u001b[0m\u001b[0m\n\u001b[0m\u001b[1;32m      9\u001b[0m \u001b[0;32mfrom\u001b[0m \u001b[0mxgboost\u001b[0m \u001b[0;32mimport\u001b[0m \u001b[0mXGBClassifier\u001b[0m\u001b[0;34m\u001b[0m\u001b[0;34m\u001b[0m\u001b[0m\n",
      "\u001b[0;31mModuleNotFoundError\u001b[0m: No module named 'xgboost'"
     ]
    }
   ],
   "source": [
    "from sklearn.pipeline import Pipeline\n",
    "from sklearn.feature_extraction.text import TfidfTransformer\n",
    "from sklearn.feature_extraction.text import CountVectorizer\n",
    "from sklearn.ensemble import RandomForestClassifier\n",
    "from sklearn.neural_network import MLPClassifier\n",
    "from sklearn.linear_model import SGDClassifier\n",
    "from sklearn.linear_model import LogisticRegression\n",
    "from xgboost import XGBClassifier"
   ]
  },
  {
   "cell_type": "code",
   "execution_count": null,
   "metadata": {},
   "outputs": [],
   "source": []
  }
 ],
 "metadata": {
  "kernelspec": {
   "display_name": "Python 3",
   "language": "python",
   "name": "python3"
  },
  "language_info": {
   "codemirror_mode": {
    "name": "ipython",
    "version": 3
   },
   "file_extension": ".py",
   "mimetype": "text/x-python",
   "name": "python",
   "nbconvert_exporter": "python",
   "pygments_lexer": "ipython3",
   "version": "3.8.3"
  }
 },
 "nbformat": 4,
 "nbformat_minor": 4
}
