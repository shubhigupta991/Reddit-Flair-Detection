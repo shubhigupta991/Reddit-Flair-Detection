{
 "cells": [
  {
   "cell_type": "markdown",
   "metadata": {},
   "source": [
    "# Collecting the data from reddit\n",
    "\n",
    "We are collecting the data with the help of PRAW\n",
    "\n",
    "PRAW stands for Python Reddit API Wrapper."
   ]
  },
  {
   "cell_type": "code",
   "execution_count": 6,
   "metadata": {},
   "outputs": [
    {
     "name": "stdout",
     "output_type": "stream",
     "text": [
      "zsh:1: command not found: pip\r\n"
     ]
    }
   ],
   "source": [
    "!pip install praw"
   ]
  },
  {
   "cell_type": "code",
   "execution_count": 4,
   "metadata": {},
   "outputs": [
    {
     "name": "stdout",
     "output_type": "stream",
     "text": [
      "Requirement already up-to-date: praw in /Users/shubhangigupta/Library/Python/3.7/lib/python/site-packages (7.1.0)\n",
      "Requirement already satisfied, skipping upgrade: prawcore<2.0,>=1.3.0 in /Users/shubhangigupta/Library/Python/3.7/lib/python/site-packages (from praw) (1.5.0)\n",
      "Requirement already satisfied, skipping upgrade: update-checker>=0.17 in /Users/shubhangigupta/Library/Python/3.7/lib/python/site-packages (from praw) (0.18.0)\n",
      "Requirement already satisfied, skipping upgrade: websocket-client>=0.54.0 in /Users/shubhangigupta/Library/Python/3.7/lib/python/site-packages (from praw) (0.57.0)\n",
      "Requirement already satisfied, skipping upgrade: requests<3.0,>=2.6.0 in /Users/shubhangigupta/Library/Python/3.7/lib/python/site-packages (from prawcore<2.0,>=1.3.0->praw) (2.25.0)\n",
      "Requirement already satisfied, skipping upgrade: six in /Library/Developer/CommandLineTools/Library/Frameworks/Python3.framework/Versions/3.7/lib/python3.7/site-packages (from websocket-client>=0.54.0->praw) (1.12.0)\n",
      "Requirement already satisfied, skipping upgrade: chardet<4,>=3.0.2 in /Users/shubhangigupta/Library/Python/3.7/lib/python/site-packages (from requests<3.0,>=2.6.0->prawcore<2.0,>=1.3.0->praw) (3.0.4)\n",
      "Requirement already satisfied, skipping upgrade: idna<3,>=2.5 in /Users/shubhangigupta/Library/Python/3.7/lib/python/site-packages (from requests<3.0,>=2.6.0->prawcore<2.0,>=1.3.0->praw) (2.10)\n",
      "Requirement already satisfied, skipping upgrade: urllib3<1.27,>=1.21.1 in /Users/shubhangigupta/Library/Python/3.7/lib/python/site-packages (from requests<3.0,>=2.6.0->prawcore<2.0,>=1.3.0->praw) (1.26.2)\n",
      "Requirement already satisfied, skipping upgrade: certifi>=2017.4.17 in /Users/shubhangigupta/Library/Python/3.7/lib/python/site-packages (from requests<3.0,>=2.6.0->prawcore<2.0,>=1.3.0->praw) (2020.11.8)\n",
      "\u001b[33mYou are using pip version 19.0.3, however version 20.3b1 is available.\n",
      "You should consider upgrading via the 'pip install --upgrade pip' command.\u001b[0m\n"
     ]
    }
   ],
   "source": [
    "!pip3 install --upgrade praw"
   ]
  },
  {
   "cell_type": "code",
   "execution_count": 5,
   "metadata": {},
   "outputs": [
    {
     "ename": "ModuleNotFoundError",
     "evalue": "No module named 'praw'",
     "output_type": "error",
     "traceback": [
      "\u001b[0;31m---------------------------------------------------------------------------\u001b[0m",
      "\u001b[0;31mModuleNotFoundError\u001b[0m                       Traceback (most recent call last)",
      "\u001b[0;32m<ipython-input-5-4e6645392518>\u001b[0m in \u001b[0;36m<module>\u001b[0;34m\u001b[0m\n\u001b[0;32m----> 1\u001b[0;31m \u001b[0;32mimport\u001b[0m \u001b[0mpraw\u001b[0m\u001b[0;34m\u001b[0m\u001b[0;34m\u001b[0m\u001b[0m\n\u001b[0m",
      "\u001b[0;31mModuleNotFoundError\u001b[0m: No module named 'praw'"
     ]
    }
   ],
   "source": [
    "import praw"
   ]
  },
  {
   "cell_type": "code",
   "execution_count": null,
   "metadata": {},
   "outputs": [],
   "source": []
  }
 ],
 "metadata": {
  "kernelspec": {
   "display_name": "Python 3",
   "language": "python",
   "name": "python3"
  },
  "language_info": {
   "codemirror_mode": {
    "name": "ipython",
    "version": 3
   },
   "file_extension": ".py",
   "mimetype": "text/x-python",
   "name": "python",
   "nbconvert_exporter": "python",
   "pygments_lexer": "ipython3",
   "version": "3.8.3"
  }
 },
 "nbformat": 4,
 "nbformat_minor": 4
}
